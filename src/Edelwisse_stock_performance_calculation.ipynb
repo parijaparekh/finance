{
 "cells": [
  {
   "cell_type": "code",
   "execution_count": 5,
   "metadata": {},
   "outputs": [],
   "source": [
    "import pandas as pd\n",
    "import openpyxl\n",
    "import xlsxwriter\n",
    "import matplotlib.pyplot as plt\n",
    "#import seaborn as sns\n",
    "import numpy as np\n",
    "\n",
    "#Converting csv data\n",
    "script_df = pd.read_csv('../../finance_vicky/files/input/Scripts_Data_Aug2017_Aug2018.csv')\n",
    "#declaring nifty 50 index\n",
    "nifty_50_pos = 72.48\n",
    "nifty_50_neg = -58.18"
   ]
  },
  {
   "cell_type": "code",
   "execution_count": 6,
   "metadata": {},
   "outputs": [],
   "source": [
    "#Cleaning up the data\n",
    "#Setting_index, Creating a df for market cap, Dropping market_cap from script_df,\n",
    "script_df.set_index('Script', inplace=True)\n",
    "market_cap_df = pd.DataFrame({'Script': script_df.index.values, 'Market Cap': script_df['Market Cap'].values})\n",
    "market_cap_df.set_index('Script', inplace=True)\n",
    "script_df.drop(['Market Cap'], axis=1, inplace = True)\n",
    "script_df.columns\n",
    "script_df.columns = pd.to_datetime(script_df.columns)\n"
   ]
  },
  {
   "cell_type": "code",
   "execution_count": 7,
   "metadata": {
    "scrolled": false
   },
   "outputs": [],
   "source": [
    "#Taking care of blank values\n",
    "#script_df.isnull().sum() ---> There are 251 places where stock values are missing\n",
    "#Backward Filling for scripts that start with missing value.\n",
    "no_value_start_scripts = script_df[script_df[script_df.columns[0]].isnull()].index\n",
    "for i in no_value_start_scripts:\n",
    "    first_valid_date = script_df.loc[i].first_valid_index()\n",
    "    script_df.loc[i,script_df.columns[0]:first_valid_date] = script_df.loc[i, first_valid_date]\n",
    "    #print(script_df.loc[i,script_df.columns[0]:first_valid_date])\n",
    "\n",
    "#get scripts with intermittent missing values in between.\n",
    "no_value_inbetw_scripts = script_df[script_df.isnull().any(axis=1)].index\n",
    "\n",
    "#Interpolate and fill in the missing values\n",
    "script_df.interpolate(method='linear',axis=1, inplace=True)\n",
    "script_df = script_df.round(2)"
   ]
  },
  {
   "cell_type": "code",
   "execution_count": 8,
   "metadata": {},
   "outputs": [],
   "source": [
    "#Calculating %change in values: %Data\n",
    "#get a transponse of the dataframe \n",
    "t_script_df = script_df.T\n",
    "t_pct_change_df = t_script_df.pct_change()*100\n",
    "t_pct_change_df = t_pct_change_df.round(2)\n"
   ]
  },
  {
   "cell_type": "code",
   "execution_count": 9,
   "metadata": {},
   "outputs": [],
   "source": [
    "#Aggregating +ve and -ve change\n",
    "t_pct_change_net_df = pd.DataFrame(t_pct_change_df.sum(), columns=['Net']) \n",
    "t_pct_change_neg_df = pd.DataFrame(t_pct_change_df[t_pct_change_df[t_pct_change_df.columns] < 0.0].sum(), columns=['Negative'])\n",
    "t_pct_change_pos_df = pd.DataFrame(t_pct_change_df[t_pct_change_df[t_pct_change_df.columns] > 0.0].sum(), columns=['Positive'])\n",
    "t_pct_change_cal_df = pd.concat([t_pct_change_pos_df,t_pct_change_neg_df,t_pct_change_net_df, market_cap_df], axis = 1)\n"
   ]
  },
  {
   "cell_type": "code",
   "execution_count": 24,
   "metadata": {},
   "outputs": [],
   "source": [
    " #Printing\n",
    " #Transposed_Data\n",
    " writer = pd.ExcelWriter('transposed_script_data_Aug2017_Aug2018.xlsx', engine='xlsxwriter', datetime_format='mm/dd/yyyy',\n",
    "                        date_format='mm/dd/yyyy')\n",
    " #writer = xlsxwriter.Workbook('transposed_script_data_Aug2017_Aug2018.xlsx')\n",
    "\n",
    " script_df.to_excel(writer,sheet_name='Data')\n",
    " t_pct_change_df.T.to_excel(writer,sheet_name='%Data')\n",
    " t_pct_change_cal_df.to_excel(writer, sheet_name='Sum of Positive & Negative')\n",
    " t_pct_change_pos_df.sort_values(by=['Positive'], ascending=False).to_excel(writer, sheet_name='Positive Sorting')\n",
    " t_pct_change_neg_df.sort_values(by=['Negative'], ascending=False).to_excel(writer, sheet_name='Negative Sorting')\n",
    " writer.save()\n",
    " "
   ]
  },
  {
   "cell_type": "code",
   "execution_count": 11,
   "metadata": {},
   "outputs": [
    {
     "data": {
      "image/png": "[encoded data removed]",
      "text/plain": [
       "<Figure size 432x288 with 1 Axes>"
      ]
     },
     "metadata": {
      "needs_background": "light"
     },
     "output_type": "display_data"
    }
   ],
   "source": [
    "t_pct_change_net_df.hist(bins=30)\n",
    "plt.show()"
   ]
  },
  {
   "cell_type": "code",
   "execution_count": null,
   "metadata": {},
   "outputs": [],
   "source": []
  }
 ],
 "metadata": {
  "kernelspec": {
   "display_name": "Python 3",
   "language": "python",
   "name": "python3"
  },
  "language_info": {
   "codemirror_mode": {
    "name": "ipython",
    "version": 3
   },
   "file_extension": ".py",
   "mimetype": "text/x-python",
   "name": "python",
   "nbconvert_exporter": "python",
   "pygments_lexer": "ipython3",
   "version": "3.5.3"
  }
 },
 "nbformat": 4,
 "nbformat_minor": 2
}
