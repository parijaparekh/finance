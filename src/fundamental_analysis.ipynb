{
 "cells": [
  {
   "cell_type": "code",
   "execution_count": 1,
   "metadata": {},
   "outputs": [],
   "source": [
    "import pandas as pd\n",
    "import openpyxl\n",
    "import xlsxwriter\n",
    "import numpy as np\n",
    "import pdb\n",
    "from dateutil.relativedelta import *\n",
    "import glob\n",
    "import matplotlib.pyplot as plt\n",
    "import seaborn as sn"
   ]
  },
  {
   "cell_type": "code",
   "execution_count": 2,
   "metadata": {},
   "outputs": [],
   "source": [
    "balance_sheet_df  = pd.DataFrame()\n",
    "profit_loss_df = pd.DataFrame()\n",
    "cash_flow_df = pd.DataFrame()\n",
    "\n",
    "company_name = \"Kiri Indus.xlsx\"\n",
    "xl = pd.ExcelFile('../../finance_vicky/files/input/company_details/'+company_name)\n",
    "if 'Profit & Loss' in xl.sheet_names:\n",
    "    profit_loss_df = xl.parse('Profit & Loss', skiprows=2)\n",
    "if 'Balance Sheet' in xl.sheet_names:\n",
    "    balance_sheet_df = xl.parse('Balance Sheet', skiprows=2)\n",
    "if 'Cash Flow' in xl.sheet_names:\n",
    "    cash_flow_df = xl.parse('Cash Flow', skiprows=2)"
   ]
  },
  {
   "cell_type": "code",
   "execution_count": 3,
   "metadata": {
    "scrolled": false
   },
   "outputs": [
    {
     "name": "stdout",
     "output_type": "stream",
     "text": [
      "                  2009-03-31  2010-03-31  2011-03-31  2012-03-31  2013-03-31  \\\n",
      "Narration                                                                      \n",
      "Sales                 278.49      340.85      572.42      534.54      524.61   \n",
      "Expenses              250.77      280.91      475.62      471.75      603.07   \n",
      "Operating Profit       27.72       59.94       96.80       62.79      -78.46   \n",
      "Other Income            4.15        7.09        4.16        2.50        1.42   \n",
      "Depreciation            3.34       11.72       18.62       30.26       31.98   \n",
      "\n",
      "                  2014-03-31  2015-03-31  2016-03-31  2017-03-31  2018-03-31  \n",
      "Narration                                                                     \n",
      "Sales                 583.27      780.29      889.04      964.83      884.20  \n",
      "Expenses              550.73      711.65      801.72      837.27      754.03  \n",
      "Operating Profit       32.54       68.64       87.32      127.56      130.17  \n",
      "Other Income            0.57        2.30        7.61        2.00        3.25  \n",
      "Depreciation           33.50       20.22       20.38       22.18       25.05  \n"
     ]
    }
   ],
   "source": [
    "profit_loss_df.set_index('Narration', inplace=True)\n",
    "profit_loss_df.columns = pd.to_datetime(profit_loss_df.columns)\n",
    "print(profit_loss_df.head())\n",
    "#profit_loss_df.drop(['RATIOS:', 'Dividend Payout', 'OPM', 'TRENDS:',\n",
    "#'Sales Growth', 'OPM', 'Price to Earning'], axis=0, inplace = True)\n",
    "t_profit_loss_df = profit_loss_df.T\n"
   ]
  },
  {
   "cell_type": "code",
   "execution_count": 4,
   "metadata": {},
   "outputs": [],
   "source": [
    "t_profit_loss_df.columns.name = 'Narration'\n",
    "t_profit_loss_df.index.name = 'Date'\n",
    "t_profit_loss_df['% Sales Growth'] = t_profit_loss_df['Sales'].pct_change()*100\n",
    "t_profit_loss_df['% Operating Profit Growth'] = t_profit_loss_df['Operating Profit'].pct_change()*100\n",
    "melted_df = pd.melt(t_profit_loss_df.reset_index(), id_vars=t_profit_loss_df.index.name, value_vars=list(t_profit_loss_df.columns))\n",
    "melted_df['Date'] = melted_df['Date'].map(lambda x: x.year)"
   ]
  },
  {
   "cell_type": "code",
   "execution_count": 6,
   "metadata": {},
   "outputs": [
    {
     "data": {
      "image/png": "[encoded data removed]",
      "text/plain": [
       "<Figure size 432x288 with 1 Axes>"
      ]
     },
     "metadata": {},
     "output_type": "display_data"
    }
   ],
   "source": [
    "sn.set()\n",
    "fig_growth = sn.barplot(data=melted_df, x='Date', y='value', hue='Narration', hue_order=['% Sales Growth','% Operating Profit Growth'])\n",
    "plt.xlabel('Year')\n",
    "plt.ylabel('%sales & %operating profit growth')\n",
    "plt.show(fig_growth)\n",
    "#fig.save"
   ]
  },
  {
   "cell_type": "code",
   "execution_count": 169,
   "metadata": {},
   "outputs": [
    {
     "data": {
      "text/plain": [
       "Index([        'Narration', 2009-03-31 00:00:00, 2010-03-31 00:00:00,\n",
       "       2011-03-31 00:00:00, 2012-03-31 00:00:00, 2013-03-31 00:00:00,\n",
       "       2014-03-31 00:00:00, 2015-03-31 00:00:00, 2016-03-31 00:00:00,\n",
       "       2017-03-31 00:00:00, 2018-03-31 00:00:00],\n",
       "      dtype='object')"
      ]
     },
     "execution_count": 169,
     "metadata": {},
     "output_type": "execute_result"
    }
   ],
   "source": []
  },
  {
   "cell_type": "code",
   "execution_count": null,
   "metadata": {},
   "outputs": [],
   "source": []
  },
  {
   "cell_type": "code",
   "execution_count": null,
   "metadata": {},
   "outputs": [],
   "source": []
  }
 ],
 "metadata": {
  "kernelspec": {
   "display_name": "Python 3",
   "language": "python",
   "name": "python3"
  },
  "language_info": {
   "codemirror_mode": {
    "name": "ipython",
    "version": 3
   },
   "file_extension": ".py",
   "mimetype": "text/x-python",
   "name": "python",
   "nbconvert_exporter": "python",
   "pygments_lexer": "ipython3",
   "version": "3.5.3"
  }
 },
 "nbformat": 4,
 "nbformat_minor": 2
}
