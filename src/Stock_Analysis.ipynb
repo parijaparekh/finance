{
 "cells": [
  {
   "cell_type": "code",
   "execution_count": 160,
   "metadata": {
    "scrolled": true
   },
   "outputs": [],
   "source": [
    "import pandas as pd\n",
    "import openpyxl\n",
    "import xlsxwriter\n",
    "import matplotlib.pyplot as plt\n",
    "import numpy as np\n",
    "\n",
    "#Converting xls data\n",
    "input_file = '../../finance_vicky/files/input/backtest/'+'Daily prices since April 06.xlsx'\n",
    "xl = pd.ExcelFile(input_file)\n",
    "for sheet in xl.sheet_names:\n",
    "    output_file = '../../finance_vicky/files/output/backtest/'+sheet+'.xlsx'\n",
    "    script_df = xl.parse(sheet)\n",
    "    #print(script_df.columns)"
   ]
  },
  {
   "cell_type": "code",
   "execution_count": 161,
   "metadata": {},
   "outputs": [],
   "source": [
    "    #Cleaning up the data\n",
    "    #Setting_index, Creating a df for market cap, Dropping market_cap from script_df,\n",
    "    #print(script_df.info(), script_df.index.values)\n",
    "    script_df.drop(['Sr.No'], axis=1, inplace=True)\n",
    "    script_df.set_index('Script Name', inplace=True)\n",
    "    market_cap_df = pd.DataFrame({'Script': script_df.index.values, 'Market Cap': script_df['Market Cap'].values})\n",
    "    market_cap_df.set_index('Script', inplace=True)\n",
    "    script_df.drop(['Market Cap'], axis=1, inplace = True)\n",
    "    script_df.columns = pd.to_datetime(script_df.columns)\n",
    "    #print(script_df.head())"
   ]
  },
  {
   "cell_type": "code",
   "execution_count": 162,
   "metadata": {},
   "outputs": [],
   "source": [
    "    #droppping date columns related to weekends. \n",
    "    script_df.drop(script_df.loc[:,(pd.Series(script_df.columns).dt.dayofweek > 4).values].columns, axis=1, inplace=True)\n",
    "    #print(script_df.loc[:,script_df[pd.Series(script_df.columns).dt.dayofweek > 4]])\n",
    "    #dayofweek = ts.dt.dayofweek\n",
    "    #print(ts.head(), dayofweek.head())\n",
    "    #print(script_df.loc[:,(pd.Series(script_df.columns).dt.dayofweek > 4).values])"
   ]
  },
  {
   "cell_type": "code",
   "execution_count": 163,
   "metadata": {
    "scrolled": true
   },
   "outputs": [],
   "source": [
    "    #Taking care of blank values\n",
    "    #removing columns that are meant for weekend date\n",
    "    #script_df.isnull().sum() ---> There are 251 places where stock values are missing\n",
    "    #Backward Filling for scripts that start with missing value.\n",
    "    #Forward Filling for scripts that end with missing value. \n",
    "    \n",
    "    \n",
    "    #Get the name of the scripts where the start is null\n",
    "    no_value_start_scripts = script_df[script_df[script_df.columns[0]].isnull()].index\n",
    "    #print(no_value_start_scripts)\n",
    "    for i in no_value_start_scripts:\n",
    "        # Get the first valid value\n",
    "        if i is not None:\n",
    "            first_valid_date = script_df.loc[i].first_valid_index()\n",
    "            if first_valid_date is not None:\n",
    "                #Back fill the values\n",
    "                script_df.loc[i,script_df.columns[0]:first_valid_date] = script_df.loc[i, first_valid_date]\n",
    "    \n",
    "    #Get the name of the scripts where the end is null\n",
    "    no_value_end_scripts = script_df[script_df[script_df.columns[-1]].isnull()].index\n",
    "    #print(no_value_end_scripts)\n",
    "    for i in no_value_end_scripts:\n",
    "        #forward fill these values. \n",
    "        script_df.loc[i].ffill()\n",
    "    \n",
    "    #get scripts with intermittent missing values in between.\n",
    "    no_value_inbetw_scripts = script_df[script_df.isnull().any(axis=1)].index\n",
    "    #print(no_value_inbetw_scripts)\n",
    "    #Interpolate and fill in the missing values\n",
    "    script_df.interpolate(method='linear',axis=1, inplace=True)\n",
    "    script_df = script_df.round(2)\n"
   ]
  },
  {
   "cell_type": "code",
   "execution_count": 164,
   "metadata": {},
   "outputs": [],
   "source": [
    "    #Calculating %change in values: %Data\n",
    "    #get a transponse of the dataframe \n",
    "    t_script_df = script_df.T\n",
    "    t_pct_change_df = t_script_df.pct_change()*100\n",
    "    t_pct_change_df = t_pct_change_df.round(2)\n"
   ]
  },
  {
   "cell_type": "code",
   "execution_count": 165,
   "metadata": {},
   "outputs": [],
   "source": [
    "    #Aggregating +ve and -ve change\n",
    "    #Get the Nifty % change:\n",
    "    nifty = t_script_df['Nifty 50']\n",
    "    t_pct_change_net_df = pd.DataFrame(t_pct_change_df.sum(), columns=['Net']) \n",
    "    t_pct_change_neg_df = pd.DataFrame(t_pct_change_df[t_pct_change_df['Nifty 50'] < 0.0].sum(), columns=['Negative'])\n",
    "    t_pct_change_pos_df = pd.DataFrame(t_pct_change_df[t_pct_change_df['Nifty 50'] > 0.0].sum(), columns=['Positive'])\n",
    "    #print(t_pct_change_neg_df)\n",
    "    #t_pct_change_pos_df = pd.DataFrame(t_pct_change_df[t_pct_change_df[t_pct_change_df.columns] > 0.0].sum(), columns=['Positive'])\n",
    "    t_pct_change_cal_df = pd.concat([t_pct_change_pos_df,t_pct_change_neg_df,t_pct_change_net_df, market_cap_df], axis = 1)\n"
   ]
  },
  {
   "cell_type": "code",
   "execution_count": 166,
   "metadata": {},
   "outputs": [],
   "source": [
    "     #Printing\n",
    "     #Transposed_Data\n",
    "     writer = pd.ExcelWriter(output_file, engine='xlsxwriter', datetime_format='mm/dd/yyyy',\n",
    "                            date_format='mm/dd/yyyy')\n",
    "     script_df.to_excel(writer,sheet_name='Data')\n",
    "     t_pct_change_df.T.to_excel(writer,sheet_name='%Data')\n",
    "     t_pct_change_cal_df.to_excel(writer, sheet_name='Sum of Positive & Negative')\n",
    "     t_pct_change_pos_df.sort_values(by=['Positive'], ascending=False, inplace=True)\n",
    "     t_pct_change_pos_df.to_excel(writer, sheet_name='Positive Sorting')\n",
    "     t_pct_change_neg_df.sort_values(by=['Negative'], ascending=False, inplace=True)\n",
    "     t_pct_change_neg_df.to_excel(writer, sheet_name='Negative Sorting')\n",
    "     \n",
    "     "
   ]
  },
  {
   "cell_type": "code",
   "execution_count": 167,
   "metadata": {
    "scrolled": true
   },
   "outputs": [
    {
     "name": "stdout",
     "output_type": "stream",
     "text": [
      "59\n"
     ]
    }
   ],
   "source": [
    "    ## Getting top 10 companies that showed good growth irrespective of the markets\n",
    "    bucket_size = int(script_df.shape[0]/2.5)\n",
    "    print(bucket_size)\n",
    "    final_df = pd.merge(t_pct_change_pos_df.head(bucket_size),t_pct_change_neg_df.head(bucket_size), how='inner', on='Script Name')\n",
    "    for script in final_df.index.values:\n",
    "        final_df.loc[script,'Net'] = t_pct_change_net_df.loc[script,'Net']\n",
    "        final_df.loc[script,'Open'] = script_df.loc[script,script_df.columns[0]]\n",
    "        final_df.loc[script,'Close'] = script_df.loc[script, script_df.columns[len(script_df.columns) - 1]]\n",
    "        final_df.loc[script,'Market Cap'] = market_cap_df.loc[script,'Market Cap']\n",
    "        final_df.loc[script,'P/E'] = final_df.loc[script,'Close']/(final_df.loc[script,'Close'] - final_df.loc[script,'Open'])    \n",
    "    final_df.sort_values(by=['P/E'], ascending=True, inplace=True)\n",
    "    #print(final_df)\n",
    "    final_df.to_excel(writer, sheet_name='Shortlisted Companies')\n",
    "    writer.save()"
   ]
  },
  {
   "cell_type": "code",
   "execution_count": null,
   "metadata": {},
   "outputs": [],
   "source": []
  },
  {
   "cell_type": "code",
   "execution_count": null,
   "metadata": {},
   "outputs": [],
   "source": []
  }
 ],
 "metadata": {
  "kernelspec": {
   "display_name": "Python 3",
   "language": "python",
   "name": "python3"
  },
  "language_info": {
   "codemirror_mode": {
    "name": "ipython",
    "version": 3
   },
   "file_extension": ".py",
   "mimetype": "text/x-python",
   "name": "python",
   "nbconvert_exporter": "python",
   "pygments_lexer": "ipython3",
   "version": "3.5.3"
  }
 },
 "nbformat": 4,
 "nbformat_minor": 2
}
